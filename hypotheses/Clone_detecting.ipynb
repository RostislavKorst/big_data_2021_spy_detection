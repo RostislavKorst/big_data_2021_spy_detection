{
 "cells": [
  {
   "cell_type": "markdown",
   "metadata": {},
   "source": [
    "Попробуем найти клонов"
   ]
  },
  {
   "cell_type": "code",
   "execution_count": 1,
   "metadata": {},
   "outputs": [],
   "source": [
    "import numpy as np\n",
    "import pandas as pd"
   ]
  },
  {
   "cell_type": "code",
   "execution_count": 13,
   "metadata": {},
   "outputs": [],
   "source": [
    "df = pd.read_csv('PointzAggregator-AirlinesData_3.csv', index_col=0, sep=';')"
   ]
  },
  {
   "cell_type": "code",
   "execution_count": 16,
   "metadata": {},
   "outputs": [],
   "source": [
    "df['name_id'] = df['firstName_3'] + ' ' + df['lastName_3']"
   ]
  },
  {
   "cell_type": "code",
   "execution_count": 17,
   "metadata": {},
   "outputs": [],
   "source": [
    "grp = df.groupby(['cardNumber_3', 'name_id'], as_index=False).count()"
   ]
  },
  {
   "cell_type": "code",
   "execution_count": 18,
   "metadata": {},
   "outputs": [
    {
     "data": {
      "text/html": [
       "<div>\n",
       "<style scoped>\n",
       "    .dataframe tbody tr th:only-of-type {\n",
       "        vertical-align: middle;\n",
       "    }\n",
       "\n",
       "    .dataframe tbody tr th {\n",
       "        vertical-align: top;\n",
       "    }\n",
       "\n",
       "    .dataframe thead th {\n",
       "        text-align: right;\n",
       "    }\n",
       "</style>\n",
       "<table border=\"1\" class=\"dataframe\">\n",
       "  <thead>\n",
       "    <tr style=\"text-align: right;\">\n",
       "      <th></th>\n",
       "      <th>cardNumber_3</th>\n",
       "      <th>name_id</th>\n",
       "    </tr>\n",
       "  </thead>\n",
       "  <tbody>\n",
       "    <tr>\n",
       "      <th>0</th>\n",
       "      <td>DT 100115031</td>\n",
       "      <td>anzhelika vereshchagina</td>\n",
       "    </tr>\n",
       "    <tr>\n",
       "      <th>1</th>\n",
       "      <td>DT 100187673</td>\n",
       "      <td>tamerlan fetisov</td>\n",
       "    </tr>\n",
       "    <tr>\n",
       "      <th>2</th>\n",
       "      <td>DT 100252671</td>\n",
       "      <td>aidar evdokimov</td>\n",
       "    </tr>\n",
       "    <tr>\n",
       "      <th>3</th>\n",
       "      <td>DT 10031788</td>\n",
       "      <td>al'bina utkina</td>\n",
       "    </tr>\n",
       "    <tr>\n",
       "      <th>4</th>\n",
       "      <td>DT 100345931</td>\n",
       "      <td>ignat d'yakonov</td>\n",
       "    </tr>\n",
       "    <tr>\n",
       "      <th>...</th>\n",
       "      <td>...</td>\n",
       "      <td>...</td>\n",
       "    </tr>\n",
       "    <tr>\n",
       "      <th>56811</th>\n",
       "      <td>SU 999763553</td>\n",
       "      <td>marina utkina</td>\n",
       "    </tr>\n",
       "    <tr>\n",
       "      <th>56812</th>\n",
       "      <td>SU 999936032</td>\n",
       "      <td>danil gorokhov</td>\n",
       "    </tr>\n",
       "    <tr>\n",
       "      <th>56813</th>\n",
       "      <td>SU 999952967</td>\n",
       "      <td>artem vereshchagin</td>\n",
       "    </tr>\n",
       "    <tr>\n",
       "      <th>56814</th>\n",
       "      <td>SU 999980484</td>\n",
       "      <td>miron malakhov</td>\n",
       "    </tr>\n",
       "    <tr>\n",
       "      <th>56815</th>\n",
       "      <td>SU 99998757</td>\n",
       "      <td>milana rozanova</td>\n",
       "    </tr>\n",
       "  </tbody>\n",
       "</table>\n",
       "<p>56816 rows × 2 columns</p>\n",
       "</div>"
      ],
      "text/plain": [
       "       cardNumber_3                  name_id\n",
       "0      DT 100115031  anzhelika vereshchagina\n",
       "1      DT 100187673         tamerlan fetisov\n",
       "2      DT 100252671          aidar evdokimov\n",
       "3       DT 10031788           al'bina utkina\n",
       "4      DT 100345931          ignat d'yakonov\n",
       "...             ...                      ...\n",
       "56811  SU 999763553            marina utkina\n",
       "56812  SU 999936032           danil gorokhov\n",
       "56813  SU 999952967       artem vereshchagin\n",
       "56814  SU 999980484           miron malakhov\n",
       "56815   SU 99998757          milana rozanova\n",
       "\n",
       "[56816 rows x 2 columns]"
      ]
     },
     "execution_count": 18,
     "metadata": {},
     "output_type": "execute_result"
    }
   ],
   "source": [
    "grp = grp.drop(columns=['firstName_3', 'lastName_3', 'bonusProgramm_3', 'flightCode_3', 'flightDate_3', 'flightDeparture_3', 'flightArrival_3', 'flightFare_3'])\n",
    "grp"
   ]
  },
  {
   "cell_type": "code",
   "execution_count": 20,
   "metadata": {},
   "outputs": [
    {
     "data": {
      "text/html": [
       "<div>\n",
       "<style scoped>\n",
       "    .dataframe tbody tr th:only-of-type {\n",
       "        vertical-align: middle;\n",
       "    }\n",
       "\n",
       "    .dataframe tbody tr th {\n",
       "        vertical-align: top;\n",
       "    }\n",
       "\n",
       "    .dataframe thead th {\n",
       "        text-align: right;\n",
       "    }\n",
       "</style>\n",
       "<table border=\"1\" class=\"dataframe\">\n",
       "  <thead>\n",
       "    <tr style=\"text-align: right;\">\n",
       "      <th></th>\n",
       "      <th>program_short</th>\n",
       "      <th>number</th>\n",
       "      <th>name_id</th>\n",
       "    </tr>\n",
       "  </thead>\n",
       "  <tbody>\n",
       "    <tr>\n",
       "      <th>0</th>\n",
       "      <td>DT</td>\n",
       "      <td>100115031</td>\n",
       "      <td>anzhelika vereshchagina</td>\n",
       "    </tr>\n",
       "    <tr>\n",
       "      <th>1</th>\n",
       "      <td>DT</td>\n",
       "      <td>100187673</td>\n",
       "      <td>tamerlan fetisov</td>\n",
       "    </tr>\n",
       "    <tr>\n",
       "      <th>2</th>\n",
       "      <td>DT</td>\n",
       "      <td>100252671</td>\n",
       "      <td>aidar evdokimov</td>\n",
       "    </tr>\n",
       "    <tr>\n",
       "      <th>3</th>\n",
       "      <td>DT</td>\n",
       "      <td>10031788</td>\n",
       "      <td>al'bina utkina</td>\n",
       "    </tr>\n",
       "    <tr>\n",
       "      <th>4</th>\n",
       "      <td>DT</td>\n",
       "      <td>100345931</td>\n",
       "      <td>ignat d'yakonov</td>\n",
       "    </tr>\n",
       "    <tr>\n",
       "      <th>...</th>\n",
       "      <td>...</td>\n",
       "      <td>...</td>\n",
       "      <td>...</td>\n",
       "    </tr>\n",
       "    <tr>\n",
       "      <th>56811</th>\n",
       "      <td>SU</td>\n",
       "      <td>999763553</td>\n",
       "      <td>marina utkina</td>\n",
       "    </tr>\n",
       "    <tr>\n",
       "      <th>56812</th>\n",
       "      <td>SU</td>\n",
       "      <td>999936032</td>\n",
       "      <td>danil gorokhov</td>\n",
       "    </tr>\n",
       "    <tr>\n",
       "      <th>56813</th>\n",
       "      <td>SU</td>\n",
       "      <td>999952967</td>\n",
       "      <td>artem vereshchagin</td>\n",
       "    </tr>\n",
       "    <tr>\n",
       "      <th>56814</th>\n",
       "      <td>SU</td>\n",
       "      <td>999980484</td>\n",
       "      <td>miron malakhov</td>\n",
       "    </tr>\n",
       "    <tr>\n",
       "      <th>56815</th>\n",
       "      <td>SU</td>\n",
       "      <td>99998757</td>\n",
       "      <td>milana rozanova</td>\n",
       "    </tr>\n",
       "  </tbody>\n",
       "</table>\n",
       "<p>56816 rows × 3 columns</p>\n",
       "</div>"
      ],
      "text/plain": [
       "      program_short     number                  name_id\n",
       "0                DT  100115031  anzhelika vereshchagina\n",
       "1                DT  100187673         tamerlan fetisov\n",
       "2                DT  100252671          aidar evdokimov\n",
       "3                DT   10031788           al'bina utkina\n",
       "4                DT  100345931          ignat d'yakonov\n",
       "...             ...        ...                      ...\n",
       "56811            SU  999763553            marina utkina\n",
       "56812            SU  999936032           danil gorokhov\n",
       "56813            SU  999952967       artem vereshchagin\n",
       "56814            SU  999980484           miron malakhov\n",
       "56815            SU   99998757          milana rozanova\n",
       "\n",
       "[56816 rows x 3 columns]"
      ]
     },
     "execution_count": 20,
     "metadata": {},
     "output_type": "execute_result"
    }
   ],
   "source": [
    "df_m = pd.DataFrame()\n",
    "df_m['program_short'] = grp['cardNumber_3'].apply(lambda x: str(x).split(' ')[0])\n",
    "df_m['number'] = grp['cardNumber_3'].apply(lambda x: str(x).split(' ')[1])\n",
    "df_m['name_id'] = grp['name_id']\n",
    "df_m"
   ]
  },
  {
   "cell_type": "code",
   "execution_count": 38,
   "metadata": {},
   "outputs": [
    {
     "data": {
      "text/plain": [
       "9778"
      ]
     },
     "execution_count": 38,
     "metadata": {},
     "output_type": "execute_result"
    }
   ],
   "source": [
    "mask = df_m.groupby(['number'], as_index=False).count()['name_id'] > 1\n",
    "list(mask).index(True)"
   ]
  },
  {
   "cell_type": "markdown",
   "metadata": {},
   "source": [
    "Подозреваемые"
   ]
  },
  {
   "cell_type": "code",
   "execution_count": 52,
   "metadata": {},
   "outputs": [
    {
     "data": {
      "text/plain": [
       "program_short                     DT\n",
       "number                     732657209\n",
       "name_id          vladislava ignatova\n",
       "Name: 9778, dtype: object"
      ]
     },
     "execution_count": 52,
     "metadata": {},
     "output_type": "execute_result"
    }
   ],
   "source": [
    "df_m.iloc[9778]"
   ]
  },
  {
   "cell_type": "code",
   "execution_count": 50,
   "metadata": {
    "scrolled": true
   },
   "outputs": [
    {
     "data": {
      "text/plain": [
       "45133"
      ]
     },
     "execution_count": 50,
     "metadata": {},
     "output_type": "execute_result"
    }
   ],
   "source": [
    "list(df_m['number'].duplicated()).index(True)"
   ]
  },
  {
   "cell_type": "code",
   "execution_count": 53,
   "metadata": {},
   "outputs": [
    {
     "data": {
      "text/plain": [
       "program_short               SU\n",
       "number               255934506\n",
       "name_id          daniil glebov\n",
       "Name: 45133, dtype: object"
      ]
     },
     "execution_count": 53,
     "metadata": {},
     "output_type": "execute_result"
    }
   ],
   "source": [
    "df_m.iloc[45133]"
   ]
  }
 ],
 "metadata": {
  "kernelspec": {
   "display_name": "Python 3",
   "language": "python",
   "name": "python3"
  },
  "language_info": {
   "codemirror_mode": {
    "name": "ipython",
    "version": 3
   },
   "file_extension": ".py",
   "mimetype": "text/x-python",
   "name": "python",
   "nbconvert_exporter": "python",
   "pygments_lexer": "ipython3",
   "version": "3.8.3"
  }
 },
 "nbformat": 4,
 "nbformat_minor": 4
}
